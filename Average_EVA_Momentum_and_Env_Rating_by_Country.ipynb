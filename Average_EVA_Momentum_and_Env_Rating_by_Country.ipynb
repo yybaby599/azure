{
  "nbformat": 4,
  "nbformat_minor": 0,
  "metadata": {
    "colab": {
      "provenance": [],
      "authorship_tag": "ABX9TyNDJ7OAMFrqg1rGQIlcHJNz",
      "include_colab_link": true
    },
    "kernelspec": {
      "name": "python3",
      "display_name": "Python 3"
    },
    "language_info": {
      "name": "python"
    }
  },
  "cells": [
    {
      "cell_type": "markdown",
      "metadata": {
        "id": "view-in-github",
        "colab_type": "text"
      },
      "source": [
        "<a href=\"https://colab.research.google.com/github/yybaby599/azure/blob/main/Average_EVA_Momentum_and_Env_Rating_by_Country.ipynb\" target=\"_parent\"><img src=\"https://colab.research.google.com/assets/colab-badge.svg\" alt=\"Open In Colab\"/></a>"
      ]
    },
    {
      "cell_type": "code",
      "execution_count": null,
      "metadata": {
        "id": "pnLz03lCsADS"
      },
      "outputs": [],
      "source": [
        "import pandas as pd\n",
        "import plotly.express as px\n",
        "\n",
        "# Load the dataset\n",
        "file_path = '1.xlsx'\n",
        "data = pd.read_excel(file_path)\n",
        "\n",
        "# Map environmental ratings to numeric values for aggregation\n",
        "env_rating_map = {'A+': 12, 'A': 11, 'A-': 10,\n",
        "                  'B+': 9,  'B': 8,  'B-': 7,\n",
        "                  'C+': 6,  'C': 5,  'C-': 4,\n",
        "                  'D+': 3,  'D': 2,  'D-': 1}\n",
        "\n",
        "# Apply the mapping for numeric analysis\n",
        "data['EnvRating_numeric'] = data['EnvRating'].map(env_rating_map)\n",
        "\n",
        "# Calculate the average EVA Momentum and EnvRating by country\n",
        "country_data = data.groupby('CountryOfIncorporation').agg({\n",
        "    'EVAMomentum': 'mean',\n",
        "    'EnvRating_numeric': 'mean'\n",
        "}).reset_index()\n",
        "\n",
        "# Define a function to map the average EnvRating back to letter grades\n",
        "def numeric_to_grade(avg_numeric_rating):\n",
        "    if avg_numeric_rating >= 11.5:\n",
        "        return 'A+'\n",
        "    elif avg_numeric_rating >= 10.5:\n",
        "        return 'A'\n",
        "    elif avg_numeric_rating >= 9.5:\n",
        "        return 'A-'\n",
        "    elif avg_numeric_rating >= 8.5:\n",
        "        return 'B+'\n",
        "    elif avg_numeric_rating >= 7.5:\n",
        "        return 'B'\n",
        "    elif avg_numeric_rating >= 6.5:\n",
        "        return 'B-'\n",
        "    elif avg_numeric_rating >= 5.5:\n",
        "        return 'C+'\n",
        "    elif avg_numeric_rating >= 4.5:\n",
        "        return 'C'\n",
        "    elif avg_numeric_rating >= 3.5:\n",
        "        return 'C-'\n",
        "    elif avg_numeric_rating >= 2.5:\n",
        "        return 'D+'\n",
        "    elif avg_numeric_rating >= 1.5:\n",
        "        return 'D'\n",
        "    else:\n",
        "        return 'D-'\n",
        "\n",
        "# Apply the function to map average numeric ratings back to letter grades\n",
        "country_data['AvgEnvRating'] = country_data['EnvRating_numeric'].apply(numeric_to_grade)\n",
        "\n",
        "# Create the world map with EVA Momentum and EnvRating in hover information\n",
        "fig = px.choropleth(\n",
        "    country_data,\n",
        "    locations='CountryOfIncorporation',\n",
        "    locationmode='country names',\n",
        "    color='EVAMomentum',\n",
        "    hover_name='CountryOfIncorporation',\n",
        "    hover_data={'EVAMomentum': True, 'AvgEnvRating': True},  # Include AvgEnvRating in hover\n",
        "    color_continuous_scale='Viridis',\n",
        "    title='Average EVA Momentum and Env Rating by Country',\n",
        "    labels={'EVAMomentum': 'Average EVA Momentum'}\n",
        ")\n",
        "\n",
        "# Display the map\n",
        "fig.show()\n"
      ]
    }
  ]
}